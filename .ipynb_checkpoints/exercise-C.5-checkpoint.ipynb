{
 "cells": [
  {
   "cell_type": "code",
   "execution_count": 4,
   "id": "641cd99d",
   "metadata": {},
   "outputs": [
    {
     "name": "stdout",
     "output_type": "stream",
     "text": [
      "Accuracy of the model:\n",
      "0.9333333333333333\n"
     ]
    }
   ],
   "source": [
    "# Exercise C5\n",
    " \n",
    "import pandas as pd\n",
    "from sklearn.neighbors import KNeighborsClassifier \n",
    "from sklearn.model_selection import train_test_split \n",
    "\n",
    "#loads Iris dataset from url link\n",
    "url = 'http://archive.ics.uci.edu/ml/machine-learning-databases/iris/iris.data'\n",
    "\n",
    "#renames columns\n",
    "columnNames = ['sepal_length', 'sepal_width', 'petal_length', 'petal_width', 'species']\n",
    "\n",
    "#creates 'iris' dataframe\n",
    "iris = pd.read_csv(url, names = columnNames)\n",
    "\n",
    "#'X' groups values of sepal length/width and petal length/width columns, and 'y' groups values of species column\n",
    "X = iris.iloc[:, :-1].values\n",
    "y = iris.iloc[:, 4].values\n",
    "\n",
    "#splits dataset into 80% train data and 20% test data\n",
    "X_train, X_test, y_train, y_test = train_test_split(X, y, test_size=0.20) \n",
    "knn = KNeighborsClassifier(n_neighbors=7)  \n",
    "knn.fit(X_train, y_train)\n",
    "\n",
    "#calculates accuracy of model \n",
    "print(\"Accuracy of the model:\")\n",
    "print(knn.score(X_test, y_test))"
   ]
  },
  {
   "cell_type": "code",
   "execution_count": null,
   "id": "1edce495",
   "metadata": {},
   "outputs": [],
   "source": []
  }
 ],
 "metadata": {
  "kernelspec": {
   "display_name": "Python 3",
   "language": "python",
   "name": "python3"
  },
  "language_info": {
   "codemirror_mode": {
    "name": "ipython",
    "version": 3
   },
   "file_extension": ".py",
   "mimetype": "text/x-python",
   "name": "python",
   "nbconvert_exporter": "python",
   "pygments_lexer": "ipython3",
   "version": "3.8.8"
  }
 },
 "nbformat": 4,
 "nbformat_minor": 5
}
