{
 "cells": [
  {
   "cell_type": "code",
   "execution_count": 3,
   "id": "7d630ebb",
   "metadata": {},
   "outputs": [
    {
     "name": "stdout",
     "output_type": "stream",
     "text": [
      "Iris-setosa\n",
      "       sepal_length  sepal_width  petal_length  petal_width\n",
      "count      50.00000    50.000000     50.000000     50.00000\n",
      "mean        5.00600     3.418000      1.464000      0.24400\n",
      "std         0.35249     0.381024      0.173511      0.10721\n",
      "min         4.30000     2.300000      1.000000      0.10000\n",
      "25%         4.80000     3.125000      1.400000      0.20000\n",
      "50%         5.00000     3.400000      1.500000      0.20000\n",
      "75%         5.20000     3.675000      1.575000      0.30000\n",
      "max         5.80000     4.400000      1.900000      0.60000\n",
      "Iris-versicolor\n",
      "       sepal_length  sepal_width  petal_length  petal_width\n",
      "count      50.00000    50.000000     50.000000     50.00000\n",
      "mean        5.00600     3.418000      1.464000      0.24400\n",
      "std         0.35249     0.381024      0.173511      0.10721\n",
      "min         4.30000     2.300000      1.000000      0.10000\n",
      "25%         4.80000     3.125000      1.400000      0.20000\n",
      "50%         5.00000     3.400000      1.500000      0.20000\n",
      "75%         5.20000     3.675000      1.575000      0.30000\n",
      "max         5.80000     4.400000      1.900000      0.60000\n",
      "Iris-virginica\n",
      "       sepal_length  sepal_width  petal_length  petal_width\n",
      "count      50.00000    50.000000     50.000000     50.00000\n",
      "mean        5.00600     3.418000      1.464000      0.24400\n",
      "std         0.35249     0.381024      0.173511      0.10721\n",
      "min         4.30000     2.300000      1.000000      0.10000\n",
      "25%         4.80000     3.125000      1.400000      0.20000\n",
      "50%         5.00000     3.400000      1.500000      0.20000\n",
      "75%         5.20000     3.675000      1.575000      0.30000\n",
      "max         5.80000     4.400000      1.900000      0.60000\n"
     ]
    }
   ],
   "source": [
    "# Exercise D1\n",
    "\n",
    "import pandas as pd\n",
    "\n",
    "#loads Iris dataset from url link\n",
    "url = 'http://archive.ics.uci.edu/ml/machine-learning-databases/iris/iris.data'\n",
    "\n",
    "#renames columns\n",
    "columnNames = ['sepal_length', 'sepal_width', 'petal_length', 'petal_width', 'species']\n",
    "\n",
    "#creates 'iris' dataframe\n",
    "iris = pd.read_csv(url, names = columnNames)\n",
    "\n",
    "#prints statistical details for Iris-setosa\n",
    "print('Iris-setosa')\n",
    "setosa = iris['species'] == 'Iris-setosa'\n",
    "print(iris[setosa].describe())\n",
    "\n",
    "#prints statistical details for Iris-versicolor\n",
    "print('Iris-versicolor')\n",
    "versicolor = iris['species'] == 'Iris-versicolor'\n",
    "print(iris[setosa].describe())\n",
    "\n",
    "#prints statistical details for Iris-virginica\n",
    "print('Iris-virginica')\n",
    "virginica = iris['species'] == 'Iris-virginica'\n",
    "print(iris[setosa].describe())"
   ]
  },
  {
   "cell_type": "code",
   "execution_count": null,
   "id": "638aa859",
   "metadata": {},
   "outputs": [],
   "source": []
  }
 ],
 "metadata": {
  "kernelspec": {
   "display_name": "Python 3",
   "language": "python",
   "name": "python3"
  },
  "language_info": {
   "codemirror_mode": {
    "name": "ipython",
    "version": 3
   },
   "file_extension": ".py",
   "mimetype": "text/x-python",
   "name": "python",
   "nbconvert_exporter": "python",
   "pygments_lexer": "ipython3",
   "version": "3.8.8"
  }
 },
 "nbformat": 4,
 "nbformat_minor": 5
}
